{
  "cells": [
    {
      "cell_type": "code",
      "source": [
        "from qiskit import QuantumCircuit\r\n",
        "from qiskit import QuantumCircuit, execute\r\n",
        "from qiskit.visualization import plot_histogram\r\n",
        "from qiskit.tools.monitor import job_monitor\r\n",
        "from azure.quantum.qiskit import AzureQuantumProvider\r\n",
        "import time\r\n",
        "from IPython.display import clear_output\r\n",
        "import random\r\n",
        "import numpy as np"
      ],
      "outputs": [],
      "execution_count": 1,
      "metadata": {
        "jupyter": {
          "source_hidden": false,
          "outputs_hidden": false
        },
        "nteract": {
          "transient": {
            "deleting": false
          }
        }
      }
    },
    {
      "cell_type": "code",
      "source": [
        "from azure.quantum.qiskit import AzureQuantumProvider\r\n",
        "provider = AzureQuantumProvider (\r\n",
        "    resource_id = \"/subscriptions/b1d7f7f8-743f-458e-b3a0-3e09734d716d/resourceGroups/aq-hackathons/providers/Microsoft.Quantum/Workspaces/aq-hackathon-01\",\r\n",
        "    location = \"eastus\"\r\n",
        ")"
      ],
      "outputs": [],
      "execution_count": 8,
      "metadata": {
        "jupyter": {
          "source_hidden": false,
          "outputs_hidden": false
        },
        "nteract": {
          "transient": {
            "deleting": false
          }
        }
      }
    },
    {
      "cell_type": "markdown",
      "source": [
        "## Nature"
      ],
      "metadata": {
        "nteract": {
          "transient": {
            "deleting": false
          }
        }
      }
    },
    {
      "cell_type": "code",
      "source": [
        "# GETTING THE QUBIT POSITIONS FOR EACH PLAYER\r\n",
        "\r\n",
        "def Get_qubits(n_qubits=10,mode=\"single_player\"):\r\n",
        "    #n_qubits = 10\r\n",
        "    Qubit_list = range(n_qubits)\r\n",
        "    \r\n",
        "    Player1_list = []\r\n",
        "    Player2_list = []\r\n",
        "    used_qubits = []\r\n",
        "    \r\n",
        "    if mode == \"single_player\":\r\n",
        "        \r\n",
        "        for i in range(int(n_qubits/2)):\r\n",
        "                        \r\n",
        "            while True:\r\n",
        "                val1 = int(input(\"Qubit \"+str(i)+\" to initialize\"))\r\n",
        "                if val1 in used_qubits or val1 not in range(10):\r\n",
        "                    print(\"Qubit not available\")\r\n",
        "                    continue\r\n",
        "                else:\r\n",
        "                    Player1_list.append(val1)\r\n",
        "                    used_qubits.append(val1)\r\n",
        "                    break\r\n",
        "\r\n",
        "            while True:\r\n",
        "                val2 = np.random.randint(n_qubits)\r\n",
        "                if val2 in used_qubits:\r\n",
        "                    continue\r\n",
        "                else:\r\n",
        "                    Player2_list.append(val2)\r\n",
        "                    used_qubits.append(val2)\r\n",
        "                    break\r\n",
        "        \r\n",
        "        print(\"\")\r\n",
        "        print(\"PLAYER QUBITS :\",Player1_list)\r\n",
        "\r\n",
        "    \r\n",
        "    elif mode == \"two_player\":\r\n",
        "        \r\n",
        "        for i in range(int(n_qubits/2)):\r\n",
        "            num = np.random.randint(2)\r\n",
        "            if num==0:\r\n",
        "                while True:\r\n",
        "                    val1 = int(input(\"Player ONE qubit \"+str(i)+\" to initialize\"))\r\n",
        "                    if val1 in used_qubits or val1 not in range(10):\r\n",
        "                        print(\"Qubit not available\")\r\n",
        "                        continue\r\n",
        "                    else:\r\n",
        "                        Player1_list.append(val1)\r\n",
        "                        used_qubits.append(val1)\r\n",
        "                        break\r\n",
        "\r\n",
        "                while True:\r\n",
        "                    val2 = int(input(\"Player TWO qubit \"+str(i)+\" to initialize\"))\r\n",
        "                    if val2 in used_qubits or val2 not in range(10):\r\n",
        "                        print(\"Qubit not available\")\r\n",
        "                        continue\r\n",
        "\r\n",
        "                    else:\r\n",
        "                        Player2_list.append(val2)\r\n",
        "                        used_qubits.append(val2)\r\n",
        "                        break\r\n",
        "\r\n",
        "\r\n",
        "            else:\r\n",
        "                while True:\r\n",
        "                    val2 = int(input(\"Player TWO qubit \"+str(i)+\" to initialize\"))\r\n",
        "                    if val2 in used_qubits or val2 not in range(10):\r\n",
        "                        print(\"Qubit not available\")\r\n",
        "                        continue\r\n",
        "\r\n",
        "                    else:\r\n",
        "                        Player2_list.append(val2)\r\n",
        "                        used_qubits.append(val2)\r\n",
        "                        break\r\n",
        "\r\n",
        "                while True:\r\n",
        "                    val1 = int(input(\"Player ONE qubit \"+str(i)+\" to initialize\"))\r\n",
        "                    if val1 in used_qubits or val1 not in range(10):\r\n",
        "                        print(\"Qubit not available\")\r\n",
        "                        continue\r\n",
        "                    else:\r\n",
        "                        Player1_list.append(val1)\r\n",
        "                        used_qubits.append(val1)\r\n",
        "                        break        \r\n",
        "        print(\"\")\r\n",
        "        print(\"PLAYER ONE QUBITS :\",Player1_list)\r\n",
        "        print(\"PLAYER TWO QUBITS :\",Player2_list) \r\n",
        "        \r\n",
        "    return Player1_list,Player2_list\r\n",
        "\r\n",
        "\r\n",
        "# INITIAL CIRCUIT OF EACH PLAYER\r\n",
        "\r\n",
        "def Player_circuits(Lists,n_qubits=10,mode=\"single_player\"):\r\n",
        "    \r\n",
        "    First_player_list,Second_player_list = Lists\r\n",
        "       \r\n",
        "    if mode == \"single_player\":\r\n",
        "        \r\n",
        "        Player_circuit = QuantumCircuit(n_qubits)\r\n",
        "\r\n",
        "        for index in First_player_list:\r\n",
        "            while True:\r\n",
        "                val = int(input(\"Value of qubit \"+str(index)))\r\n",
        "                if val==1:\r\n",
        "                    Player_circuit.x(index)\r\n",
        "                    break\r\n",
        "                elif val==0:\r\n",
        "                    Player_circuit.id(index)\r\n",
        "                    break\r\n",
        "                else:\r\n",
        "                    print(\"Not a possible value\") \r\n",
        "\r\n",
        "        #Player2_circuit = QuantumCircuit(n_qubits)\r\n",
        "\r\n",
        "        for index in Second_player_list:\r\n",
        "            val = np.random.randint(2)\r\n",
        "            if val==1:\r\n",
        "                Player_circuit.x(index)\r\n",
        "                \r\n",
        "            elif val==0:\r\n",
        "                Player_circuit.id(index)\r\n",
        "                \r\n",
        "                \r\n",
        "    \r\n",
        "    elif mode == \"two_player\":\r\n",
        "        \r\n",
        "        Player_circuit = QuantumCircuit(n_qubits)\r\n",
        "\r\n",
        "        for index in First_player_list:\r\n",
        "            while True:\r\n",
        "                val = int(input(\"Value of Player ONE qubit \"+str(index)))\r\n",
        "                if val==1:\r\n",
        "                    Player_circuit.x(index)\r\n",
        "                    break\r\n",
        "                elif val==0:\r\n",
        "                    Player_circuit.id(index)\r\n",
        "                    break\r\n",
        "                else:\r\n",
        "                    print(\"Not a possible value\") \r\n",
        "\r\n",
        "        #Player2_circuit = QuantumCircuit(n_qubits)\r\n",
        "        print(\"\")\r\n",
        "        \r\n",
        "        for index in Second_player_list:\r\n",
        "            while True:\r\n",
        "                val = int(input(\"Value of Player TWO qubit \"+str(index)))\r\n",
        "                if val==1:\r\n",
        "                    Player_circuit.x(index)\r\n",
        "                    break\r\n",
        "                elif val==0:\r\n",
        "                    Player_circuit.id(index)\r\n",
        "                    break\r\n",
        "                else:\r\n",
        "                    print(\"Not a possible value\")\r\n",
        "\r\n",
        "                    \r\n",
        "    return Player_circuit\r\n",
        "\r\n",
        "\r\n",
        "# DISPLAY THE CIRCUIT AND CLEAR THE OUTPUT\r\n",
        "def Show_Circuit(qc,secs=10):\r\n",
        "    print(\"YOU ONLY HAVE \"+str(secs)+\" SECONDS TO SEE THIS CIRCUIT\")\r\n",
        "    display(qc.draw(\"mpl\",style={'name':'iqx'}))\r\n",
        "    time.sleep(secs)\r\n",
        "    clear_output()\r\n",
        "    \r\n",
        "# DETERMINE THE NUMBER OF 1 IN THE MOST FREQUENT MEASUREMENT    \r\n",
        "def Number_of_alive_cells(counts):\r\n",
        "    player_res = counts.most_frequent()\r\n",
        "    alive_cells = 0\r\n",
        "    dead_cells = 0\r\n",
        "    for i in player_res:\r\n",
        "        if i == '1':\r\n",
        "            alive_cells += 1\r\n",
        "        else:\r\n",
        "            dead_cells += 1\r\n",
        "            \r\n",
        "          \r\n",
        "    return alive_cells,dead_cells    \r\n",
        "\r\n",
        "\r\n",
        "# TYPE 1 OPERATION\r\n",
        "def Operation1(qc,q0,q1,q2):\r\n",
        "    qc.ccx(q0,q2,q1)\r\n",
        "\r\n",
        "    \r\n",
        "# TYPE 2 OPERATION    \r\n",
        "def Operation2(qc,q0,q1,q2):\r\n",
        "    qc.x(q1)\r\n",
        "    qc.cx(q0,q1)\r\n",
        "    qc.cx(q2,q1)\r\n",
        "       \r\n",
        "# LOAD ROTATIONS\r\n",
        "def load_rotations(qc):\r\n",
        "    n_qubits = qc.num_qubits\r\n",
        "    for i in range(n_qubits):\r\n",
        "        num = np.random.randint(10)\r\n",
        "        if num<3:\r\n",
        "            qc.ry(np.pi/2.5,i)\r\n",
        "        \r\n",
        "# RANDOM CIRCUIT\r\n",
        "def Create_random_circuit(qc,load_rots=False):\r\n",
        "    n_qubits = qc.num_qubits\r\n",
        "    \r\n",
        "    if load_rots==True:\r\n",
        "        load_rotations(qc)\r\n",
        "    \r\n",
        "    for i in range(int(n_qubits/2)):\r\n",
        "        qubit = 1 + np.random.randint(n_qubits-2)\r\n",
        "        num = np.random.randint(2)\r\n",
        "        if num==0:\r\n",
        "            Operation1(qc,qubit-1,qubit,qubit+1)\r\n",
        "        else:\r\n",
        "            Operation2(qc,qubit-1,qubit,qubit+1)    \r\n",
        "        \r\n",
        "        \r\n",
        "# RUN THE CIRCUITS\r\n",
        "def Run_circuit(qc, ): \r\n",
        "    sim = provider.get_backend('ionq.simulator')\r\n",
        "    qpu = provider.get_backend('ionq.qpu')\r\n",
        "    counts = execute(qc,backend=sim,shots=2048).result().get_counts()\r\n",
        "    return counts         \r\n",
        "\r\n",
        "\r\n",
        "# DETERMINE THE WINNER \r\n",
        "def who_wins(alive_cells,dead_cells):\r\n",
        "    if alive_cells>dead_cells:\r\n",
        "        print(\"Player 1 wins\")\r\n",
        "    elif alive_cells<dead_cells:\r\n",
        "        print(\"Player 2 wins\")\r\n",
        "    else:\r\n",
        "        print(\"It's a tie!\")"
      ],
      "outputs": [],
      "execution_count": 10,
      "metadata": {
        "jupyter": {
          "source_hidden": false,
          "outputs_hidden": false
        },
        "nteract": {
          "transient": {
            "deleting": false
          }
        }
      }
    },
    {
      "cell_type": "code",
      "source": [
        "n_qubits = 10\r\n",
        "random_qc = QuantumCircuit(n_qubits)\r\n",
        "\r\n",
        "Create_random_circuit(random_qc,load_rots=True)\r\n",
        "Show_Circuit(random_qc)"
      ],
      "outputs": [],
      "execution_count": 11,
      "metadata": {
        "jupyter": {
          "source_hidden": false,
          "outputs_hidden": false
        },
        "nteract": {
          "transient": {
            "deleting": false
          }
        }
      }
    },
    {
      "cell_type": "code",
      "source": [
        "Lists = Get_qubits(n_qubits,\"single_player\")"
      ],
      "outputs": [
        {
          "output_type": "stream",
          "name": "stdout",
          "text": "Qubit not available\n\nPLAYER QUBITS : [5, 6, 8, 3, 2]\n"
        }
      ],
      "execution_count": 12,
      "metadata": {
        "jupyter": {
          "source_hidden": false,
          "outputs_hidden": false
        },
        "nteract": {
          "transient": {
            "deleting": false
          }
        }
      }
    },
    {
      "cell_type": "code",
      "source": [
        "Circuits = Player_circuits(Lists,n_qubits,mode=\"single_player\")"
      ],
      "outputs": [],
      "execution_count": 13,
      "metadata": {
        "jupyter": {
          "source_hidden": false,
          "outputs_hidden": false
        },
        "nteract": {
          "transient": {
            "deleting": false
          }
        }
      }
    },
    {
      "cell_type": "code",
      "source": [
        "qc = Circuits.compose(random_qc)\r\n",
        "qc.measure_all()    \r\n",
        "print(qc)"
      ],
      "outputs": [
        {
          "output_type": "stream",
          "name": "stdout",
          "text": "         ┌───┐┌──────────┐                                                   ░ »\n    q_0: ┤ X ├┤ Ry(2π/5) ├───────────────────────────────────────────────────░─»\n         ├───┤└──────────┘                                                   ░ »\n    q_1: ┤ I ├─────■─────────────────────────────────────────────────────────░─»\n         ├───┤   ┌─┴─┐                                                       ░ »\n    q_2: ┤ X ├───┤ X ├───────────────────────────────────────────────────────░─»\n         ├───┤   └─┬─┘                                                       ░ »\n    q_3: ┤ I ├─────■─────────────────────────────────────────────────────────░─»\n         ├───┤┌──────────┐                                                   ░ »\n    q_4: ┤ X ├┤ Ry(2π/5) ├───────────────────────────────────────────────────░─»\n         ├───┤├──────────┤                                                   ░ »\n    q_5: ┤ I ├┤ Ry(2π/5) ├───────■──────────────■────────────────────────────░─»\n         ├───┤├──────────┤┌───┐┌─┴─┐┌───┐┌───┐┌─┴─┐┌───┐                     ░ »\n    q_6: ┤ X ├┤ Ry(2π/5) ├┤ X ├┤ X ├┤ X ├┤ X ├┤ X ├┤ X ├────────────■────────░─»\n         ├───┤├──────────┤└───┘└───┘└─┬─┘└───┘└───┘└─┬─┘     ┌───┐┌─┴─┐┌───┐ ░ »\n    q_7: ┤ I ├┤ Ry(2π/5) ├────────────■──────────────■────■──┤ X ├┤ X ├┤ X ├─░─»\n         ├───┤└──┬───┬───┘                              ┌─┴─┐├───┤└───┘└─┬─┘ ░ »\n    q_8: ┤ X ├───┤ X ├──────────────────────────────────┤ X ├┤ X ├───────■───░─»\n         ├───┤   └───┘                                  └───┘└─┬─┘           ░ »\n    q_9: ┤ I ├─────────────────────────────────────────────────■─────────────░─»\n         └───┘                                                               ░ »\nmeas: 10/══════════════════════════════════════════════════════════════════════»\n                                                                               »\n«         ┌─┐                           \n«    q_0: ┤M├───────────────────────────\n«         └╥┘┌─┐                        \n«    q_1: ─╫─┤M├────────────────────────\n«          ║ └╥┘┌─┐                     \n«    q_2: ─╫──╫─┤M├─────────────────────\n«          ║  ║ └╥┘┌─┐                  \n«    q_3: ─╫──╫──╫─┤M├──────────────────\n«          ║  ║  ║ └╥┘┌─┐               \n«    q_4: ─╫──╫──╫──╫─┤M├───────────────\n«          ║  ║  ║  ║ └╥┘┌─┐            \n«    q_5: ─╫──╫──╫──╫──╫─┤M├────────────\n«          ║  ║  ║  ║  ║ └╥┘┌─┐         \n«    q_6: ─╫──╫──╫──╫──╫──╫─┤M├─────────\n«          ║  ║  ║  ║  ║  ║ └╥┘┌─┐      \n«    q_7: ─╫──╫──╫──╫──╫──╫──╫─┤M├──────\n«          ║  ║  ║  ║  ║  ║  ║ └╥┘┌─┐   \n«    q_8: ─╫──╫──╫──╫──╫──╫──╫──╫─┤M├───\n«          ║  ║  ║  ║  ║  ║  ║  ║ └╥┘┌─┐\n«    q_9: ─╫──╫──╫──╫──╫──╫──╫──╫──╫─┤M├\n«          ║  ║  ║  ║  ║  ║  ║  ║  ║ └╥┘\n«meas: 10/═╩══╩══╩══╩══╩══╩══╩══╩══╩══╩═\n«          0  1  2  3  4  5  6  7  8  9 \n"
        }
      ],
      "execution_count": 14,
      "metadata": {
        "jupyter": {
          "source_hidden": false,
          "outputs_hidden": false
        },
        "nteract": {
          "transient": {
            "deleting": false
          }
        }
      }
    },
    {
      "cell_type": "code",
      "source": [
        "counts = Run_circuit(qc)\r\n",
        "plot_histogram(counts)\r\n",
        "alive,dead = Number_of_alive_cells(counts)\r\n",
        "who_wins(alive,dead)"
      ],
      "outputs": [
        {
          "output_type": "stream",
          "name": "stdout",
          "text": "............Player 2 wins\n"
        }
      ],
      "execution_count": 15,
      "metadata": {
        "jupyter": {
          "source_hidden": false,
          "outputs_hidden": false
        },
        "nteract": {
          "transient": {
            "deleting": false
          }
        }
      }
    },
    {
      "cell_type": "code",
      "source": [
        "## Nurture"
      ],
      "outputs": [],
      "execution_count": 16,
      "metadata": {
        "jupyter": {
          "source_hidden": false,
          "outputs_hidden": false
        },
        "nteract": {
          "transient": {
            "deleting": false
          }
        }
      }
    },
    {
      "cell_type": "code",
      "source": [
        "class Nurture:\r\n",
        "    def __init__(self, num_qubits=4, num_cnots=2, num_rotations=2):\r\n",
        "        self.num_qubits = num_qubits\r\n",
        "        self.circuit = QuantumCircuit(num_qubits, num_qubits)\r\n",
        "        self.computer_gates = ['h']+[\"cnot\"]*num_cnots + self.random_rotations(num_rotations-1)\r\n",
        "        self.player_gates = ['h']+[\"cnot\"]*num_cnots + self.random_rotations(num_rotations-1)\r\n",
        "        self.num_gates = num_cnots+num_rotations\r\n",
        "    \r\n",
        "    def random_rotations(self, num_rotations):\r\n",
        "        poss_rotations = [\"h\", \"rx_pi/4\", \"ry_pi/4\", \"rz_pi/4\", \"x\", \"y\", \"z\"]\r\n",
        "        return [poss_rotations[random.randrange(0,len(poss_rotations))] for _ in range(num_rotations)]\r\n",
        "\r\n",
        "    def play_game(self, num_hidden_moves=2, backend_name='ionq.simulator',shots=100):\r\n",
        "        gates_played = []\r\n",
        "        qubits_acted_on = []\r\n",
        "        for game_round in range(self.num_gates):\r\n",
        "            player_message = \"Please enter gate you want to play followed by the qubits the gate should act on. Your available gates are: \"+str(self.player_gates)\r\n",
        "            if 2*game_round - num_hidden_moves > 0:\r\n",
        "                player_message = \"gate \"+ str(gates_played[2*game_round-num_hidden_moves-1])+\" was played on qubit(s) \"+str(qubits_acted_on[2*game_round-num_hidden_moves-1])+\" \"+str(num_hidden_moves+1)+\" moves ago.\"+\"\\n\"+player_message            \r\n",
        "\r\n",
        "            inp = input(player_message).split()\r\n",
        "            gate, qubits = inp[0], inp[1:]\r\n",
        "            qubits = [int(num) for num in qubits]\r\n",
        "            self.player_gates.remove(gate)\r\n",
        "            gates_played.append(gate)\r\n",
        "            qubits_acted_on.append(qubits)\r\n",
        "            \r\n",
        "            # computer's turn\r\n",
        "            comp_gate = self.computer_gates[random.randrange(0, len(self.computer_gates))]\r\n",
        "            gates_played.append(comp_gate)\r\n",
        "            self.computer_gates.remove(comp_gate)\r\n",
        "            comp_qubits = [random.randrange(0, self.num_qubits)]\r\n",
        "            if comp_gate=='cnot':\r\n",
        "                rand_qubit2 = random.randrange(0, self.num_qubits)\r\n",
        "                while comp_qubits[0] == rand_qubit2: # ensures valid cnot\r\n",
        "                    rand_qubit2 = random.randrange(0, self.num_qubits)\r\n",
        "                comp_qubits.append(rand_qubit2)\r\n",
        "            qubits_acted_on.append(comp_qubits)\r\n",
        "\r\n",
        "        self.make_circuit(gates_played, qubits_acted_on)\r\n",
        "        backend = provider.get_backend(backend_name)\r\n",
        "        job = backend.run(self.circuit, shots=shots)\r\n",
        "        job_id = job.id()\r\n",
        "        self.job = job\r\n",
        "        self.display_results()\r\n",
        "\r\n",
        "    def display_results(self):\r\n",
        "        job = self.job\r\n",
        "        result = job.result()\r\n",
        "        # The histogram returned by the results can be sparse, so here we add any of the missing bitstring labels.\r\n",
        "        counts = {format(n, \"0\"+str(self.num_qubits)+\"b\"): 0 for n in range(2**self.num_qubits)}\r\n",
        "        counts.update(result.get_counts(self.circuit))\r\n",
        "        num_zeros = 0\r\n",
        "        num_ones = 0\r\n",
        "        for bitstring in counts:\r\n",
        "            count = counts[bitstring]\r\n",
        "            num_zeros+=bitstring.count('0')*count\r\n",
        "            num_ones+=bitstring.count('1')*count\r\n",
        "        if num_ones > num_zeros:\r\n",
        "            print(\"You Win!\")\r\n",
        "        else:\r\n",
        "            print(\"Computer Wins\")\r\n",
        "        \r\n",
        "\r\n",
        "    def make_circuit(self, gates_played, qubits_acted_on):\r\n",
        "        for gate, qubits in zip(gates_played, qubits_acted_on):\r\n",
        "            if gate=='cnot':\r\n",
        "                self.circuit.cx(*qubits)\r\n",
        "            elif gate=='h':\r\n",
        "                self.circuit.h(qubits[0])\r\n",
        "            elif gate=='rx_pi/4':\r\n",
        "                self.circuit.rx(np.pi/4, qubits[0])\r\n",
        "            elif gate=='ry_pi/4':\r\n",
        "                self.circuit.ry(np.pi/4, qubits[0])\r\n",
        "            elif gate=='rz_pi/4':\r\n",
        "                self.circuit.rz(np.pi/4, qubits[0])\r\n",
        "            elif gate=='x':\r\n",
        "                self.circuit.x(qubits[0])\r\n",
        "            elif gate=='y':\r\n",
        "                self.circuit.y(qubits[0])\r\n",
        "            elif gate=='z':\r\n",
        "                self.circuit.z(qubits[0])\r\n",
        "        self.circuit.measure(list(range(self.num_qubits)), list(range(self.num_qubits)))\r\n",
        "                \r\n",
        "\r\n"
      ],
      "outputs": [],
      "execution_count": 3,
      "metadata": {
        "jupyter": {
          "source_hidden": false,
          "outputs_hidden": false
        },
        "nteract": {
          "transient": {
            "deleting": false
          }
        }
      }
    },
    {
      "cell_type": "code",
      "source": [
        "new_game = Nurture()\r\n",
        "new_game.play_game()"
      ],
      "outputs": [
        {
          "output_type": "stream",
          "name": "stdout",
          "text": "............Computer Wins\n"
        }
      ],
      "execution_count": 4,
      "metadata": {
        "jupyter": {
          "source_hidden": false,
          "outputs_hidden": false
        },
        "nteract": {
          "transient": {
            "deleting": false
          }
        }
      }
    },
    {
      "cell_type": "code",
      "source": [
        "new_game.display_results()"
      ],
      "outputs": [
        {
          "output_type": "stream",
          "name": "stdout",
          "text": "Computer Wins\n"
        }
      ],
      "execution_count": 6,
      "metadata": {
        "jupyter": {
          "source_hidden": false,
          "outputs_hidden": false
        },
        "nteract": {
          "transient": {
            "deleting": false
          }
        }
      }
    },
    {
      "cell_type": "code",
      "source": [
        "job = new_game.job\r\n",
        "result = job.result()\r\n",
        "counts = {format(n, \"0\"+str(new_game.num_qubits)+\"b\"): 0 for n in range(2**new_game.num_qubits)}\r\n",
        "counts.update(result.get_counts(new_game.circuit))\r\n",
        "plot_histogram(counts)"
      ],
      "outputs": [
        {
          "output_type": "execute_result",
          "execution_count": 5,
          "data": {
            "text/plain": "<Figure size 504x360 with 1 Axes>",
            "image/png": "[encoded data removed]"
          },
          "metadata": {}
        }
      ],
      "execution_count": 5,
      "metadata": {
        "jupyter": {
          "source_hidden": false,
          "outputs_hidden": false
        },
        "nteract": {
          "transient": {
            "deleting": false
          }
        }
      }
    },
    {
      "cell_type": "code",
      "source": [],
      "outputs": [],
      "execution_count": null,
      "metadata": {
        "jupyter": {
          "source_hidden": false,
          "outputs_hidden": false
        },
        "nteract": {
          "transient": {
            "deleting": false
          }
        }
      }
    }
  ],
  "metadata": {
    "language_info": {
      "name": "python",
      "version": "3.7.12",
      "mimetype": "text/x-python",
      "codemirror_mode": {
        "name": "ipython",
        "version": 3
      },
      "pygments_lexer": "ipython3",
      "nbconvert_exporter": "python",
      "file_extension": ".py"
    },
    "kernelspec": {
      "name": "python3",
      "language": "python",
      "display_name": "Python 3 (ipykernel)"
    },
    "kernel_info": {
      "name": "python3"
    },
    "nteract": {
      "version": "nteract-front-end@1.0.0"
    }
  },
  "nbformat": 4,
  "nbformat_minor": 0
}